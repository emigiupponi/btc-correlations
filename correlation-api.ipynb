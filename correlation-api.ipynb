{
 "cells": [
  {
   "cell_type": "markdown",
   "id": "56ce3587",
   "metadata": {
    "papermill": {
     "duration": 0.010554,
     "end_time": "2022-10-17T20:02:13.782767",
     "exception": false,
     "start_time": "2022-10-17T20:02:13.772213",
     "status": "completed"
    },
    "tags": []
   },
   "source": [
    "# Correlation\n",
    "\n",
    "Based on coinmetrics"
   ]
  },
  {
   "cell_type": "code",
   "execution_count": 1,
   "id": "03121609",
   "metadata": {
    "execution": {
     "iopub.execute_input": "2022-10-17T20:02:13.804214Z",
     "iopub.status.busy": "2022-10-17T20:02:13.802967Z",
     "iopub.status.idle": "2022-10-17T20:02:14.020827Z",
     "shell.execute_reply": "2022-10-17T20:02:14.019756Z"
    },
    "papermill": {
     "duration": 0.232377,
     "end_time": "2022-10-17T20:02:14.023777",
     "exception": false,
     "start_time": "2022-10-17T20:02:13.791400",
     "status": "completed"
    },
    "tags": []
   },
   "outputs": [],
   "source": [
    "%reset\n"
   ]
  },
  {
   "cell_type": "code",
   "execution_count": 2,
   "id": "14b16ad7",
   "metadata": {
    "execution": {
     "iopub.execute_input": "2022-10-17T20:02:14.042423Z",
     "iopub.status.busy": "2022-10-17T20:02:14.042026Z",
     "iopub.status.idle": "2022-10-17T20:02:15.108940Z",
     "shell.execute_reply": "2022-10-17T20:02:15.107575Z"
    },
    "papermill": {
     "duration": 1.080075,
     "end_time": "2022-10-17T20:02:15.112295",
     "exception": false,
     "start_time": "2022-10-17T20:02:14.032220",
     "status": "completed"
    },
    "tags": []
   },
   "outputs": [
    {
     "name": "stdout",
     "output_type": "stream",
     "text": [
      "\u001b[H\u001b[2J"
     ]
    }
   ],
   "source": [
    "clear ()"
   ]
  },
  {
   "cell_type": "markdown",
   "id": "1786e55c",
   "metadata": {
    "papermill": {
     "duration": 0.00953,
     "end_time": "2022-10-17T20:02:15.130486",
     "exception": false,
     "start_time": "2022-10-17T20:02:15.120956",
     "status": "completed"
    },
    "tags": []
   },
   "source": [
    "# Import data"
   ]
  },
  {
   "cell_type": "markdown",
   "id": "4826436e",
   "metadata": {
    "papermill": {
     "duration": 0.008139,
     "end_time": "2022-10-17T20:02:15.147382",
     "exception": false,
     "start_time": "2022-10-17T20:02:15.139243",
     "status": "completed"
    },
    "tags": []
   },
   "source": [
    "# BTC - Coinmetrics"
   ]
  },
  {
   "cell_type": "code",
   "execution_count": 3,
   "id": "9079ce7c",
   "metadata": {
    "_kg_hide-output": true,
    "execution": {
     "iopub.execute_input": "2022-10-17T20:02:15.173623Z",
     "iopub.status.busy": "2022-10-17T20:02:15.172802Z",
     "iopub.status.idle": "2022-10-17T20:02:28.392377Z",
     "shell.execute_reply": "2022-10-17T20:02:28.390500Z"
    },
    "papermill": {
     "duration": 13.239183,
     "end_time": "2022-10-17T20:02:28.396118",
     "exception": false,
     "start_time": "2022-10-17T20:02:15.156935",
     "status": "completed"
    },
    "tags": []
   },
   "outputs": [
    {
     "name": "stdout",
     "output_type": "stream",
     "text": [
      "Collecting coinmetrics-api-client\r\n",
      "  Downloading coinmetrics_api_client-2022.9.22.15-py3-none-any.whl (29 kB)\r\n",
      "Requirement already satisfied: python-dateutil<3.0.0,>=2.8.2 in /opt/conda/lib/python3.7/site-packages (from coinmetrics-api-client) (2.8.2)\r\n",
      "Requirement already satisfied: websocket-client<2.0.0,>=1.2.1 in /opt/conda/lib/python3.7/site-packages (from coinmetrics-api-client) (1.3.3)\r\n",
      "Requirement already satisfied: requests<3.0.0,>=2.24.0 in /opt/conda/lib/python3.7/site-packages (from coinmetrics-api-client) (2.28.1)\r\n",
      "Collecting typer<0.7.0,>=0.6.1\r\n",
      "  Downloading typer-0.6.1-py3-none-any.whl (38 kB)\r\n",
      "Requirement already satisfied: orjson<4.0.0,>=3.6.0 in /opt/conda/lib/python3.7/site-packages (from coinmetrics-api-client) (3.7.5)\r\n",
      "Requirement already satisfied: six>=1.5 in /opt/conda/lib/python3.7/site-packages (from python-dateutil<3.0.0,>=2.8.2->coinmetrics-api-client) (1.15.0)\r\n",
      "Requirement already satisfied: charset-normalizer<3,>=2 in /opt/conda/lib/python3.7/site-packages (from requests<3.0.0,>=2.24.0->coinmetrics-api-client) (2.1.0)\r\n",
      "Requirement already satisfied: urllib3<1.27,>=1.21.1 in /opt/conda/lib/python3.7/site-packages (from requests<3.0.0,>=2.24.0->coinmetrics-api-client) (1.26.12)\r\n",
      "Requirement already satisfied: idna<4,>=2.5 in /opt/conda/lib/python3.7/site-packages (from requests<3.0.0,>=2.24.0->coinmetrics-api-client) (3.3)\r\n",
      "Requirement already satisfied: certifi>=2017.4.17 in /opt/conda/lib/python3.7/site-packages (from requests<3.0.0,>=2.24.0->coinmetrics-api-client) (2022.6.15.2)\r\n",
      "Requirement already satisfied: click<9.0.0,>=7.1.1 in /opt/conda/lib/python3.7/site-packages (from typer<0.7.0,>=0.6.1->coinmetrics-api-client) (8.0.4)\r\n",
      "Requirement already satisfied: importlib-metadata in /opt/conda/lib/python3.7/site-packages (from click<9.0.0,>=7.1.1->typer<0.7.0,>=0.6.1->coinmetrics-api-client) (4.12.0)\r\n",
      "Requirement already satisfied: zipp>=0.5 in /opt/conda/lib/python3.7/site-packages (from importlib-metadata->click<9.0.0,>=7.1.1->typer<0.7.0,>=0.6.1->coinmetrics-api-client) (3.8.0)\r\n",
      "Requirement already satisfied: typing-extensions>=3.6.4 in /opt/conda/lib/python3.7/site-packages (from importlib-metadata->click<9.0.0,>=7.1.1->typer<0.7.0,>=0.6.1->coinmetrics-api-client) (4.3.0)\r\n",
      "Installing collected packages: typer, coinmetrics-api-client\r\n",
      "  Attempting uninstall: typer\r\n",
      "    Found existing installation: typer 0.4.2\r\n",
      "    Uninstalling typer-0.4.2:\r\n",
      "      Successfully uninstalled typer-0.4.2\r\n",
      "\u001b[31mERROR: pip's dependency resolver does not currently take into account all the packages that are installed. This behaviour is the source of the following dependency conflicts.\r\n",
      "spacy 3.3.1 requires typer<0.5.0,>=0.3.0, but you have typer 0.6.1 which is incompatible.\r\n",
      "spacy 3.3.1 requires typing-extensions<4.2.0,>=3.7.4; python_version < \"3.8\", but you have typing-extensions 4.3.0 which is incompatible.\r\n",
      "allennlp 2.10.0 requires protobuf==3.20.0, but you have protobuf 3.19.4 which is incompatible.\u001b[0m\u001b[31m\r\n",
      "\u001b[0mSuccessfully installed coinmetrics-api-client-2022.9.22.15 typer-0.6.1\r\n",
      "\u001b[33mWARNING: Running pip as the 'root' user can result in broken permissions and conflicting behaviour with the system package manager. It is recommended to use a virtual environment instead: https://pip.pypa.io/warnings/venv\u001b[0m\u001b[33m\r\n",
      "\u001b[0mNote: you may need to restart the kernel to use updated packages.\n"
     ]
    }
   ],
   "source": [
    "pip install coinmetrics-api-client"
   ]
  },
  {
   "cell_type": "code",
   "execution_count": 4,
   "id": "f94f9ac2",
   "metadata": {
    "execution": {
     "iopub.execute_input": "2022-10-17T20:02:28.417421Z",
     "iopub.status.busy": "2022-10-17T20:02:28.416970Z",
     "iopub.status.idle": "2022-10-17T20:02:39.407702Z",
     "shell.execute_reply": "2022-10-17T20:02:39.405957Z"
    },
    "papermill": {
     "duration": 11.004852,
     "end_time": "2022-10-17T20:02:39.410529",
     "exception": false,
     "start_time": "2022-10-17T20:02:28.405677",
     "status": "completed"
    },
    "tags": []
   },
   "outputs": [
    {
     "name": "stdout",
     "output_type": "stream",
     "text": [
      "Requirement already satisfied: coinmetrics-api-client in /opt/conda/lib/python3.7/site-packages (2022.9.22.15)\r\n",
      "Requirement already satisfied: requests<3.0.0,>=2.24.0 in /opt/conda/lib/python3.7/site-packages (from coinmetrics-api-client) (2.28.1)\r\n",
      "Requirement already satisfied: websocket-client<2.0.0,>=1.2.1 in /opt/conda/lib/python3.7/site-packages (from coinmetrics-api-client) (1.3.3)\r\n",
      "Requirement already satisfied: python-dateutil<3.0.0,>=2.8.2 in /opt/conda/lib/python3.7/site-packages (from coinmetrics-api-client) (2.8.2)\r\n",
      "Requirement already satisfied: typer<0.7.0,>=0.6.1 in /opt/conda/lib/python3.7/site-packages (from coinmetrics-api-client) (0.6.1)\r\n",
      "Requirement already satisfied: orjson<4.0.0,>=3.6.0 in /opt/conda/lib/python3.7/site-packages (from coinmetrics-api-client) (3.7.5)\r\n",
      "Requirement already satisfied: six>=1.5 in /opt/conda/lib/python3.7/site-packages (from python-dateutil<3.0.0,>=2.8.2->coinmetrics-api-client) (1.15.0)\r\n",
      "Requirement already satisfied: certifi>=2017.4.17 in /opt/conda/lib/python3.7/site-packages (from requests<3.0.0,>=2.24.0->coinmetrics-api-client) (2022.6.15.2)\r\n",
      "Requirement already satisfied: idna<4,>=2.5 in /opt/conda/lib/python3.7/site-packages (from requests<3.0.0,>=2.24.0->coinmetrics-api-client) (3.3)\r\n",
      "Requirement already satisfied: charset-normalizer<3,>=2 in /opt/conda/lib/python3.7/site-packages (from requests<3.0.0,>=2.24.0->coinmetrics-api-client) (2.1.0)\r\n",
      "Requirement already satisfied: urllib3<1.27,>=1.21.1 in /opt/conda/lib/python3.7/site-packages (from requests<3.0.0,>=2.24.0->coinmetrics-api-client) (1.26.12)\r\n",
      "Requirement already satisfied: click<9.0.0,>=7.1.1 in /opt/conda/lib/python3.7/site-packages (from typer<0.7.0,>=0.6.1->coinmetrics-api-client) (8.0.4)\r\n",
      "Requirement already satisfied: importlib-metadata in /opt/conda/lib/python3.7/site-packages (from click<9.0.0,>=7.1.1->typer<0.7.0,>=0.6.1->coinmetrics-api-client) (4.12.0)\r\n",
      "Requirement already satisfied: zipp>=0.5 in /opt/conda/lib/python3.7/site-packages (from importlib-metadata->click<9.0.0,>=7.1.1->typer<0.7.0,>=0.6.1->coinmetrics-api-client) (3.8.0)\r\n",
      "Requirement already satisfied: typing-extensions>=3.6.4 in /opt/conda/lib/python3.7/site-packages (from importlib-metadata->click<9.0.0,>=7.1.1->typer<0.7.0,>=0.6.1->coinmetrics-api-client) (4.3.0)\r\n",
      "\u001b[33mWARNING: Running pip as the 'root' user can result in broken permissions and conflicting behaviour with the system package manager. It is recommended to use a virtual environment instead: https://pip.pypa.io/warnings/venv\u001b[0m\u001b[33m\r\n",
      "\u001b[0mNote: you may need to restart the kernel to use updated packages.\n"
     ]
    }
   ],
   "source": [
    "pip install coinmetrics-api-client -U"
   ]
  },
  {
   "cell_type": "code",
   "execution_count": 5,
   "id": "8f4b35fb",
   "metadata": {
    "execution": {
     "iopub.execute_input": "2022-10-17T20:02:39.432168Z",
     "iopub.status.busy": "2022-10-17T20:02:39.431716Z",
     "iopub.status.idle": "2022-10-17T20:02:40.385545Z",
     "shell.execute_reply": "2022-10-17T20:02:40.384329Z"
    },
    "papermill": {
     "duration": 0.967821,
     "end_time": "2022-10-17T20:02:40.388144",
     "exception": false,
     "start_time": "2022-10-17T20:02:39.420323",
     "status": "completed"
    },
    "tags": []
   },
   "outputs": [],
   "source": [
    "from os import environ\n",
    "import sys\n",
    "import pandas as pd\n",
    "import numpy as np\n",
    "import seaborn as sns\n",
    "import logging\n",
    "from datetime import date, datetime, timedelta\n",
    "from coinmetrics.api_client import CoinMetricsClient\n",
    "import json\n",
    "import logging\n",
    "from pytz import timezone as timezone_conv\n",
    "from datetime import timezone as timezone_info\n",
    "\n",
    "import matplotlib.pyplot as plt\n",
    "%matplotlib inline"
   ]
  },
  {
   "cell_type": "code",
   "execution_count": 6,
   "id": "c92ca95d",
   "metadata": {
    "execution": {
     "iopub.execute_input": "2022-10-17T20:02:40.409255Z",
     "iopub.status.busy": "2022-10-17T20:02:40.408409Z",
     "iopub.status.idle": "2022-10-17T20:02:40.420532Z",
     "shell.execute_reply": "2022-10-17T20:02:40.418906Z"
    },
    "papermill": {
     "duration": 0.024991,
     "end_time": "2022-10-17T20:02:40.422745",
     "exception": false,
     "start_time": "2022-10-17T20:02:40.397754",
     "status": "completed"
    },
    "tags": []
   },
   "outputs": [
    {
     "name": "stdout",
     "output_type": "stream",
     "text": [
      "{0: 'btc', 1: 'eth'}\n"
     ]
    }
   ],
   "source": [
    "sns.set_theme()\n",
    "sns.set(rc={'figure.figsize':(12,8)})\n",
    "logging.basicConfig(\n",
    "    format='%(asctime)s %(levelname)-8s %(message)s',\n",
    "    level=logging.INFO,\n",
    "    datefmt='%Y-%m-%d %H:%M:%S'\n",
    ")\n",
    "# We recommend privately storing your API key in your local environment.\n",
    "try:\n",
    "    api_key = environ[\"CM_API_KEY\"]\n",
    "    logging.info(\"Using API key found in environment\")\n",
    "except KeyError:\n",
    "    api_key = \"\"\n",
    "    logging.info(\"API key not found. Using community client\")\n",
    "\n",
    "\n",
    "client = CoinMetricsClient(api_key)\n",
    "\n",
    "assets = ['btc', 'eth']\n",
    "asset_mapping = {i: assets[i] for i in range(len(assets))}\n",
    "print(asset_mapping)\n",
    "\n",
    "import pandas as pd\n",
    "from coinmetrics.api_client import CoinMetricsClient\n",
    "api_key = '<api_key>'\n",
    "client = CoinMetricsClient()"
   ]
  },
  {
   "cell_type": "code",
   "execution_count": 7,
   "id": "10a29d4c",
   "metadata": {
    "execution": {
     "iopub.execute_input": "2022-10-17T20:02:40.444124Z",
     "iopub.status.busy": "2022-10-17T20:02:40.443234Z",
     "iopub.status.idle": "2022-10-17T20:03:04.938343Z",
     "shell.execute_reply": "2022-10-17T20:03:04.937188Z"
    },
    "papermill": {
     "duration": 24.508752,
     "end_time": "2022-10-17T20:03:04.941303",
     "exception": false,
     "start_time": "2022-10-17T20:02:40.432551",
     "status": "completed"
    },
    "tags": []
   },
   "outputs": [],
   "source": [
    "end_time = datetime.now().strftime('%Y-%m-%d')\n",
    "asset_metrics = client.get_asset_metrics(\n",
    "    assets='btc', \n",
    "    metrics=['PriceUSD'], \n",
    "    start_time='2011-01-01T00:00:00Z', \n",
    "    end_time=end_time\n",
    ")\n",
    "btc_api = asset_metrics.to_dataframe()"
   ]
  },
  {
   "cell_type": "code",
   "execution_count": 8,
   "id": "0f3eaa96",
   "metadata": {
    "execution": {
     "iopub.execute_input": "2022-10-17T20:03:04.962497Z",
     "iopub.status.busy": "2022-10-17T20:03:04.962067Z",
     "iopub.status.idle": "2022-10-17T20:03:05.001707Z",
     "shell.execute_reply": "2022-10-17T20:03:05.000666Z"
    },
    "papermill": {
     "duration": 0.052993,
     "end_time": "2022-10-17T20:03:05.004316",
     "exception": false,
     "start_time": "2022-10-17T20:03:04.951323",
     "status": "completed"
    },
    "tags": []
   },
   "outputs": [],
   "source": [
    "btc_api['time'] = btc_api['time'].dt.strftime(\"%Y-%m-%d\")\n",
    "btc_api = btc_api [['time', 'PriceUSD']]\n",
    "btc_api.columns = ['time', 'btc_p']"
   ]
  },
  {
   "cell_type": "markdown",
   "id": "bba4f44e",
   "metadata": {
    "papermill": {
     "duration": 0.009225,
     "end_time": "2022-10-17T20:03:05.023339",
     "exception": false,
     "start_time": "2022-10-17T20:03:05.014114",
     "status": "completed"
    },
    "tags": []
   },
   "source": [
    "# Market assets\n",
    "https://www.kaggle.com/code/asimislam/stock-performance-with-yahoo-finance-yfinance"
   ]
  },
  {
   "cell_type": "markdown",
   "id": "5d0285d6",
   "metadata": {
    "papermill": {
     "duration": 0.009347,
     "end_time": "2022-10-17T20:03:05.042288",
     "exception": false,
     "start_time": "2022-10-17T20:03:05.032941",
     "status": "completed"
    },
    "tags": []
   },
   "source": [
    "FRED\n",
    "\n",
    "API: 35ca786e9d0c63aa7ce633e16c81735f \n",
    "\n",
    "S&P500: S&P Dow Jones Indices LLC, S&P 500 [SP500], retrieved from FRED®, Federal Reserve Bank of St. Louis; http://fred.stlouisfed.org/series/SP500 Daily value is as of 4:00 PM New York time.\n",
    "\n",
    "Gold: ICE Benchmark Administration Limited (IBA), Gold Fixing Price 10:30 A.M. (London time) in London Bullion Market, based in U.S. Dollars [GOLDAMGBD228NLBM], retrieved from FRED®, Federal Reserve Bank of St. Louis; http://fred.stlouisfed.org/series/GOLDAMGBD228NLBM Daily value is as of 10:30 AM London time.\n",
    "\n",
    "Dollar Index: Board of Governors of the Federal Reserve System (US), Trade Weighted U.S. Dollar Index: Broad, Goods and Services [DTWEXBGS], retrieved from FRED®, Federal Reserve Bank of St. Louis; http://fred.stlouisfed.org/series/DTWEXBGS Daily value is as of 12:00 PM New York time.\n",
    "\n",
    "VIX: Chicago Board Options Exchange, CBOE Volatility Index: VIX [VIXCLS], retrieved from FRED®, Federal Reserve Bank of St. Louis; http://fred.stlouisfed.org/series/VIXCLS Daily value is as of 3:15 PM Chicago time.\n",
    "\n",
    "LIBOR: ICE Benchmark Administration Limited (IBA), 1-Month London Interbank Offered Rate (LIBOR), based on U.S. Dollar [USD1MTD156N], retrieved from FRED®, Federal Reserve Bank of St. Louis; http://fred.stlouisfed.org/series/USD1MTD156N Daily value is as of 11:00 AM London time.\n"
   ]
  },
  {
   "cell_type": "code",
   "execution_count": 9,
   "id": "e5856203",
   "metadata": {
    "execution": {
     "iopub.execute_input": "2022-10-17T20:03:05.062961Z",
     "iopub.status.busy": "2022-10-17T20:03:05.062558Z",
     "iopub.status.idle": "2022-10-17T20:03:16.200133Z",
     "shell.execute_reply": "2022-10-17T20:03:16.198578Z"
    },
    "papermill": {
     "duration": 11.150832,
     "end_time": "2022-10-17T20:03:16.202712",
     "exception": false,
     "start_time": "2022-10-17T20:03:05.051880",
     "status": "completed"
    },
    "tags": []
   },
   "outputs": [
    {
     "name": "stdout",
     "output_type": "stream",
     "text": [
      "Collecting fredapi\r\n",
      "  Downloading fredapi-0.5.0-py3-none-any.whl (11 kB)\r\n",
      "Requirement already satisfied: pandas in /opt/conda/lib/python3.7/site-packages (from fredapi) (1.3.5)\r\n",
      "Requirement already satisfied: python-dateutil>=2.7.3 in /opt/conda/lib/python3.7/site-packages (from pandas->fredapi) (2.8.2)\r\n",
      "Requirement already satisfied: pytz>=2017.3 in /opt/conda/lib/python3.7/site-packages (from pandas->fredapi) (2022.1)\r\n",
      "Requirement already satisfied: numpy>=1.17.3 in /opt/conda/lib/python3.7/site-packages (from pandas->fredapi) (1.21.6)\r\n",
      "Requirement already satisfied: six>=1.5 in /opt/conda/lib/python3.7/site-packages (from python-dateutil>=2.7.3->pandas->fredapi) (1.15.0)\r\n",
      "Installing collected packages: fredapi\r\n",
      "Successfully installed fredapi-0.5.0\r\n",
      "\u001b[33mWARNING: Running pip as the 'root' user can result in broken permissions and conflicting behaviour with the system package manager. It is recommended to use a virtual environment instead: https://pip.pypa.io/warnings/venv\u001b[0m\u001b[33m\r\n",
      "\u001b[0mNote: you may need to restart the kernel to use updated packages.\n"
     ]
    }
   ],
   "source": [
    "pip install fredapi"
   ]
  },
  {
   "cell_type": "code",
   "execution_count": 10,
   "id": "95778a05",
   "metadata": {
    "execution": {
     "iopub.execute_input": "2022-10-17T20:03:16.225012Z",
     "iopub.status.busy": "2022-10-17T20:03:16.224548Z",
     "iopub.status.idle": "2022-10-17T20:03:16.234261Z",
     "shell.execute_reply": "2022-10-17T20:03:16.233116Z"
    },
    "papermill": {
     "duration": 0.023711,
     "end_time": "2022-10-17T20:03:16.236514",
     "exception": false,
     "start_time": "2022-10-17T20:03:16.212803",
     "status": "completed"
    },
    "tags": []
   },
   "outputs": [],
   "source": [
    "from fredapi import Fred\n",
    "fred = Fred(api_key='35ca786e9d0c63aa7ce633e16c81735f')"
   ]
  },
  {
   "cell_type": "code",
   "execution_count": 11,
   "id": "b33d8bbf",
   "metadata": {
    "execution": {
     "iopub.execute_input": "2022-10-17T20:03:16.258247Z",
     "iopub.status.busy": "2022-10-17T20:03:16.257817Z",
     "iopub.status.idle": "2022-10-17T20:03:16.262847Z",
     "shell.execute_reply": "2022-10-17T20:03:16.261730Z"
    },
    "papermill": {
     "duration": 0.018494,
     "end_time": "2022-10-17T20:03:16.265038",
     "exception": false,
     "start_time": "2022-10-17T20:03:16.246544",
     "status": "completed"
    },
    "tags": []
   },
   "outputs": [],
   "source": [
    "from datetime import datetime"
   ]
  },
  {
   "cell_type": "code",
   "execution_count": 12,
   "id": "ec861683",
   "metadata": {
    "execution": {
     "iopub.execute_input": "2022-10-17T20:03:16.286455Z",
     "iopub.status.busy": "2022-10-17T20:03:16.286052Z",
     "iopub.status.idle": "2022-10-17T20:03:17.076556Z",
     "shell.execute_reply": "2022-10-17T20:03:17.075355Z"
    },
    "papermill": {
     "duration": 0.804502,
     "end_time": "2022-10-17T20:03:17.079525",
     "exception": false,
     "start_time": "2022-10-17T20:03:16.275023",
     "status": "completed"
    },
    "tags": []
   },
   "outputs": [],
   "source": [
    "dxy_api = fred.get_series('DTWEXBGS') \n",
    "dxy_api = dxy_api.to_frame()\n",
    "dxy_api.reset_index(inplace=True)\n",
    "dxy_api.columns = ['time','dxy_p']\n",
    "dxy_api['time'] = dxy_api['time'].dt.strftime(\"%Y-%m-%d\")\n",
    "dxy_api['dxy_p'] = dxy_api['dxy_p'].interpolate()"
   ]
  },
  {
   "cell_type": "code",
   "execution_count": 13,
   "id": "bc664b13",
   "metadata": {
    "execution": {
     "iopub.execute_input": "2022-10-17T20:03:17.101466Z",
     "iopub.status.busy": "2022-10-17T20:03:17.101066Z",
     "iopub.status.idle": "2022-10-17T20:03:17.645876Z",
     "shell.execute_reply": "2022-10-17T20:03:17.644937Z"
    },
    "papermill": {
     "duration": 0.558743,
     "end_time": "2022-10-17T20:03:17.648497",
     "exception": false,
     "start_time": "2022-10-17T20:03:17.089754",
     "status": "completed"
    },
    "tags": []
   },
   "outputs": [],
   "source": [
    "sp500_api = fred.get_series('SP500')\n",
    "sp500_api = sp500_api.to_frame()\n",
    "sp500_api.reset_index(inplace=True)\n",
    "sp500_api.columns = ['time','sp500_p']\n",
    "sp500_api['time'] = sp500_api['time'].dt.strftime(\"%Y-%m-%d\")\n",
    "sp500_api['sp500_p'] = sp500_api['sp500_p'].interpolate()\n"
   ]
  },
  {
   "cell_type": "code",
   "execution_count": 14,
   "id": "78c2d697",
   "metadata": {
    "execution": {
     "iopub.execute_input": "2022-10-17T20:03:17.670402Z",
     "iopub.status.busy": "2022-10-17T20:03:17.669979Z",
     "iopub.status.idle": "2022-10-17T20:03:18.952525Z",
     "shell.execute_reply": "2022-10-17T20:03:18.951389Z"
    },
    "papermill": {
     "duration": 1.296886,
     "end_time": "2022-10-17T20:03:18.955550",
     "exception": false,
     "start_time": "2022-10-17T20:03:17.658664",
     "status": "completed"
    },
    "tags": []
   },
   "outputs": [],
   "source": [
    "vix_api = fred.get_series('VIXCLS')\n",
    "vix_api = vix_api.to_frame()\n",
    "vix_api.reset_index(inplace=True)\n",
    "vix_api.columns = ['time','vix_p']\n",
    "vix_api['time'] = vix_api['time'].dt.strftime(\"%Y-%m-%d\")\n",
    "vix_api['vix_p'] = vix_api['vix_p'].interpolate()"
   ]
  },
  {
   "cell_type": "markdown",
   "id": "917767a0",
   "metadata": {
    "papermill": {
     "duration": 0.009487,
     "end_time": "2022-10-17T20:03:18.974913",
     "exception": false,
     "start_time": "2022-10-17T20:03:18.965426",
     "status": "completed"
    },
    "tags": []
   },
   "source": [
    "Nasdaq\n",
    "\n",
    "(Fed's data source is not available for the gold price)"
   ]
  },
  {
   "cell_type": "code",
   "execution_count": 15,
   "id": "257af062",
   "metadata": {
    "execution": {
     "iopub.execute_input": "2022-10-17T20:03:18.997407Z",
     "iopub.status.busy": "2022-10-17T20:03:18.996683Z",
     "iopub.status.idle": "2022-10-17T20:03:30.260498Z",
     "shell.execute_reply": "2022-10-17T20:03:30.258748Z"
    },
    "papermill": {
     "duration": 11.278985,
     "end_time": "2022-10-17T20:03:30.263769",
     "exception": false,
     "start_time": "2022-10-17T20:03:18.984784",
     "status": "completed"
    },
    "tags": []
   },
   "outputs": [
    {
     "name": "stdout",
     "output_type": "stream",
     "text": [
      "Collecting Nasdaq-Data-Link\r\n",
      "  Downloading Nasdaq_Data_Link-1.0.4-py2.py3-none-any.whl (28 kB)\r\n",
      "Requirement already satisfied: python-dateutil in /opt/conda/lib/python3.7/site-packages (from Nasdaq-Data-Link) (2.8.2)\r\n",
      "Requirement already satisfied: requests>=2.7.0 in /opt/conda/lib/python3.7/site-packages (from Nasdaq-Data-Link) (2.28.1)\r\n",
      "Requirement already satisfied: pandas>=0.14 in /opt/conda/lib/python3.7/site-packages (from Nasdaq-Data-Link) (1.3.5)\r\n",
      "Collecting inflection>=0.3.1\r\n",
      "  Downloading inflection-0.5.1-py2.py3-none-any.whl (9.5 kB)\r\n",
      "Requirement already satisfied: numpy>=1.8 in /opt/conda/lib/python3.7/site-packages (from Nasdaq-Data-Link) (1.21.6)\r\n",
      "Requirement already satisfied: more-itertools in /opt/conda/lib/python3.7/site-packages (from Nasdaq-Data-Link) (8.14.0)\r\n",
      "Requirement already satisfied: six in /opt/conda/lib/python3.7/site-packages (from Nasdaq-Data-Link) (1.15.0)\r\n",
      "Requirement already satisfied: pytz>=2017.3 in /opt/conda/lib/python3.7/site-packages (from pandas>=0.14->Nasdaq-Data-Link) (2022.1)\r\n",
      "Requirement already satisfied: idna<4,>=2.5 in /opt/conda/lib/python3.7/site-packages (from requests>=2.7.0->Nasdaq-Data-Link) (3.3)\r\n",
      "Requirement already satisfied: certifi>=2017.4.17 in /opt/conda/lib/python3.7/site-packages (from requests>=2.7.0->Nasdaq-Data-Link) (2022.6.15.2)\r\n",
      "Requirement already satisfied: urllib3<1.27,>=1.21.1 in /opt/conda/lib/python3.7/site-packages (from requests>=2.7.0->Nasdaq-Data-Link) (1.26.12)\r\n",
      "Requirement already satisfied: charset-normalizer<3,>=2 in /opt/conda/lib/python3.7/site-packages (from requests>=2.7.0->Nasdaq-Data-Link) (2.1.0)\r\n",
      "Installing collected packages: inflection, Nasdaq-Data-Link\r\n",
      "Successfully installed Nasdaq-Data-Link-1.0.4 inflection-0.5.1\r\n",
      "\u001b[33mWARNING: Running pip as the 'root' user can result in broken permissions and conflicting behaviour with the system package manager. It is recommended to use a virtual environment instead: https://pip.pypa.io/warnings/venv\u001b[0m\u001b[33m\r\n",
      "\u001b[0mNote: you may need to restart the kernel to use updated packages.\n"
     ]
    }
   ],
   "source": [
    "pip install Nasdaq-Data-Link"
   ]
  },
  {
   "cell_type": "code",
   "execution_count": 16,
   "id": "1e5d5689",
   "metadata": {
    "execution": {
     "iopub.execute_input": "2022-10-17T20:03:30.286884Z",
     "iopub.status.busy": "2022-10-17T20:03:30.286453Z",
     "iopub.status.idle": "2022-10-17T20:03:34.433750Z",
     "shell.execute_reply": "2022-10-17T20:03:34.432746Z"
    },
    "papermill": {
     "duration": 4.161835,
     "end_time": "2022-10-17T20:03:34.436280",
     "exception": false,
     "start_time": "2022-10-17T20:03:30.274445",
     "status": "completed"
    },
    "tags": []
   },
   "outputs": [],
   "source": [
    "import nasdaqdatalink\n",
    "gold_api = nasdaqdatalink.get(\"LBMA/GOLD\") "
   ]
  },
  {
   "cell_type": "code",
   "execution_count": 17,
   "id": "c2fbd654",
   "metadata": {
    "execution": {
     "iopub.execute_input": "2022-10-17T20:03:34.458925Z",
     "iopub.status.busy": "2022-10-17T20:03:34.458519Z",
     "iopub.status.idle": "2022-10-17T20:03:34.541173Z",
     "shell.execute_reply": "2022-10-17T20:03:34.540221Z"
    },
    "papermill": {
     "duration": 0.097063,
     "end_time": "2022-10-17T20:03:34.543911",
     "exception": false,
     "start_time": "2022-10-17T20:03:34.446848",
     "status": "completed"
    },
    "tags": []
   },
   "outputs": [],
   "source": [
    "gold_api.reset_index(inplace=True)\n",
    "gold_api.columns = ['time', 'gold_p', '2', '3', '4', '5', '6']\n",
    "gold_api = gold_api[['time', 'gold_p']]\n",
    "gold_api['time'] = gold_api['time'].dt.strftime(\"%Y-%m-%d\")\n",
    "gold_api['gold_p'] = gold_api['gold_p'].interpolate()"
   ]
  },
  {
   "cell_type": "code",
   "execution_count": 18,
   "id": "16829961",
   "metadata": {
    "execution": {
     "iopub.execute_input": "2022-10-17T20:03:34.566913Z",
     "iopub.status.busy": "2022-10-17T20:03:34.566475Z",
     "iopub.status.idle": "2022-10-17T20:03:34.571435Z",
     "shell.execute_reply": "2022-10-17T20:03:34.570245Z"
    },
    "papermill": {
     "duration": 0.019277,
     "end_time": "2022-10-17T20:03:34.573925",
     "exception": false,
     "start_time": "2022-10-17T20:03:34.554648",
     "status": "completed"
    },
    "tags": []
   },
   "outputs": [],
   "source": [
    "btc = btc_api\n",
    "dxy = dxy_api\n",
    "sp500 = sp500_api\n",
    "vix = vix_api\n",
    "gold = gold_api"
   ]
  },
  {
   "cell_type": "code",
   "execution_count": 19,
   "id": "0666430a",
   "metadata": {
    "execution": {
     "iopub.execute_input": "2022-10-17T20:03:34.597228Z",
     "iopub.status.busy": "2022-10-17T20:03:34.596108Z",
     "iopub.status.idle": "2022-10-17T20:03:34.616861Z",
     "shell.execute_reply": "2022-10-17T20:03:34.615649Z"
    },
    "papermill": {
     "duration": 0.034986,
     "end_time": "2022-10-17T20:03:34.619516",
     "exception": false,
     "start_time": "2022-10-17T20:03:34.584530",
     "status": "completed"
    },
    "tags": []
   },
   "outputs": [
    {
     "data": {
      "text/html": [
       "<div>\n",
       "<style scoped>\n",
       "    .dataframe tbody tr th:only-of-type {\n",
       "        vertical-align: middle;\n",
       "    }\n",
       "\n",
       "    .dataframe tbody tr th {\n",
       "        vertical-align: top;\n",
       "    }\n",
       "\n",
       "    .dataframe thead th {\n",
       "        text-align: right;\n",
       "    }\n",
       "</style>\n",
       "<table border=\"1\" class=\"dataframe\">\n",
       "  <thead>\n",
       "    <tr style=\"text-align: right;\">\n",
       "      <th></th>\n",
       "      <th>time</th>\n",
       "      <th>dxy_p</th>\n",
       "    </tr>\n",
       "  </thead>\n",
       "  <tbody>\n",
       "    <tr>\n",
       "      <th>0</th>\n",
       "      <td>2006-01-02</td>\n",
       "      <td>101.4155</td>\n",
       "    </tr>\n",
       "    <tr>\n",
       "      <th>1</th>\n",
       "      <td>2006-01-03</td>\n",
       "      <td>100.7558</td>\n",
       "    </tr>\n",
       "    <tr>\n",
       "      <th>2</th>\n",
       "      <td>2006-01-04</td>\n",
       "      <td>100.2288</td>\n",
       "    </tr>\n",
       "    <tr>\n",
       "      <th>3</th>\n",
       "      <td>2006-01-05</td>\n",
       "      <td>100.2992</td>\n",
       "    </tr>\n",
       "    <tr>\n",
       "      <th>4</th>\n",
       "      <td>2006-01-06</td>\n",
       "      <td>100.0241</td>\n",
       "    </tr>\n",
       "    <tr>\n",
       "      <th>...</th>\n",
       "      <td>...</td>\n",
       "      <td>...</td>\n",
       "    </tr>\n",
       "    <tr>\n",
       "      <th>4370</th>\n",
       "      <td>2022-10-03</td>\n",
       "      <td>127.6413</td>\n",
       "    </tr>\n",
       "    <tr>\n",
       "      <th>4371</th>\n",
       "      <td>2022-10-04</td>\n",
       "      <td>127.6413</td>\n",
       "    </tr>\n",
       "    <tr>\n",
       "      <th>4372</th>\n",
       "      <td>2022-10-05</td>\n",
       "      <td>127.0138</td>\n",
       "    </tr>\n",
       "    <tr>\n",
       "      <th>4373</th>\n",
       "      <td>2022-10-06</td>\n",
       "      <td>127.3968</td>\n",
       "    </tr>\n",
       "    <tr>\n",
       "      <th>4374</th>\n",
       "      <td>2022-10-07</td>\n",
       "      <td>127.4628</td>\n",
       "    </tr>\n",
       "  </tbody>\n",
       "</table>\n",
       "<p>4375 rows × 2 columns</p>\n",
       "</div>"
      ],
      "text/plain": [
       "            time     dxy_p\n",
       "0     2006-01-02  101.4155\n",
       "1     2006-01-03  100.7558\n",
       "2     2006-01-04  100.2288\n",
       "3     2006-01-05  100.2992\n",
       "4     2006-01-06  100.0241\n",
       "...          ...       ...\n",
       "4370  2022-10-03  127.6413\n",
       "4371  2022-10-04  127.6413\n",
       "4372  2022-10-05  127.0138\n",
       "4373  2022-10-06  127.3968\n",
       "4374  2022-10-07  127.4628\n",
       "\n",
       "[4375 rows x 2 columns]"
      ]
     },
     "execution_count": 19,
     "metadata": {},
     "output_type": "execute_result"
    }
   ],
   "source": [
    "dxy"
   ]
  },
  {
   "cell_type": "markdown",
   "id": "6020dfb4",
   "metadata": {
    "papermill": {
     "duration": 0.010694,
     "end_time": "2022-10-17T20:03:34.641272",
     "exception": false,
     "start_time": "2022-10-17T20:03:34.630578",
     "status": "completed"
    },
    "tags": []
   },
   "source": [
    "# Daily return"
   ]
  },
  {
   "cell_type": "code",
   "execution_count": 20,
   "id": "bcacd75b",
   "metadata": {
    "execution": {
     "iopub.execute_input": "2022-10-17T20:03:34.664336Z",
     "iopub.status.busy": "2022-10-17T20:03:34.663902Z",
     "iopub.status.idle": "2022-10-17T20:03:34.679786Z",
     "shell.execute_reply": "2022-10-17T20:03:34.678468Z"
    },
    "papermill": {
     "duration": 0.030766,
     "end_time": "2022-10-17T20:03:34.682585",
     "exception": false,
     "start_time": "2022-10-17T20:03:34.651819",
     "status": "completed"
    },
    "tags": []
   },
   "outputs": [],
   "source": [
    "btc['btc_roi'] = np.log(btc.btc_p) - np.log(btc.btc_p.shift(1))\n",
    "gold['gold_roi'] = np.log(gold.gold_p) - np.log(gold.gold_p.shift(1))\n",
    "dxy['dxy_roi'] = np.log(dxy.dxy_p) - np.log(dxy.dxy_p.shift(1))\n",
    "sp500['sp500_roi'] = np.log(sp500.sp500_p) - np.log(sp500.sp500_p.shift(1))\n",
    "vix['vix_roi'] = np.log(vix.vix_p) - np.log(vix.vix_p.shift(1))"
   ]
  },
  {
   "cell_type": "code",
   "execution_count": 21,
   "id": "9e2b0190",
   "metadata": {
    "execution": {
     "iopub.execute_input": "2022-10-17T20:03:34.705846Z",
     "iopub.status.busy": "2022-10-17T20:03:34.705460Z",
     "iopub.status.idle": "2022-10-17T20:03:34.779556Z",
     "shell.execute_reply": "2022-10-17T20:03:34.778384Z"
    },
    "papermill": {
     "duration": 0.089091,
     "end_time": "2022-10-17T20:03:34.782298",
     "exception": false,
     "start_time": "2022-10-17T20:03:34.693207",
     "status": "completed"
    },
    "tags": []
   },
   "outputs": [],
   "source": [
    "df = pd.merge(pd.merge(gold,btc,on='time'),dxy,on='time')\n",
    "df = pd.merge(sp500,df,on='time')\n",
    "df = pd.merge(vix,df,on='time')\n",
    "df.to_csv('df.csv')"
   ]
  },
  {
   "cell_type": "code",
   "execution_count": 22,
   "id": "ae469834",
   "metadata": {
    "execution": {
     "iopub.execute_input": "2022-10-17T20:03:34.805940Z",
     "iopub.status.busy": "2022-10-17T20:03:34.804665Z",
     "iopub.status.idle": "2022-10-17T20:03:34.811756Z",
     "shell.execute_reply": "2022-10-17T20:03:34.810939Z"
    },
    "papermill": {
     "duration": 0.021124,
     "end_time": "2022-10-17T20:03:34.814061",
     "exception": false,
     "start_time": "2022-10-17T20:03:34.792937",
     "status": "completed"
    },
    "tags": []
   },
   "outputs": [],
   "source": [
    "roi = df[['time', 'btc_roi', 'gold_roi', 'dxy_roi', 'sp500_roi', 'vix_roi']]"
   ]
  },
  {
   "cell_type": "code",
   "execution_count": 23,
   "id": "7f659774",
   "metadata": {
    "execution": {
     "iopub.execute_input": "2022-10-17T20:03:34.837326Z",
     "iopub.status.busy": "2022-10-17T20:03:34.836547Z",
     "iopub.status.idle": "2022-10-17T20:03:34.841598Z",
     "shell.execute_reply": "2022-10-17T20:03:34.840479Z"
    },
    "papermill": {
     "duration": 0.019144,
     "end_time": "2022-10-17T20:03:34.843863",
     "exception": false,
     "start_time": "2022-10-17T20:03:34.824719",
     "status": "completed"
    },
    "tags": []
   },
   "outputs": [],
   "source": [
    "import csv"
   ]
  },
  {
   "cell_type": "code",
   "execution_count": 24,
   "id": "8437d94c",
   "metadata": {
    "execution": {
     "iopub.execute_input": "2022-10-17T20:03:34.866366Z",
     "iopub.status.busy": "2022-10-17T20:03:34.865957Z",
     "iopub.status.idle": "2022-10-17T20:03:34.895058Z",
     "shell.execute_reply": "2022-10-17T20:03:34.894048Z"
    },
    "papermill": {
     "duration": 0.043387,
     "end_time": "2022-10-17T20:03:34.897796",
     "exception": false,
     "start_time": "2022-10-17T20:03:34.854409",
     "status": "completed"
    },
    "tags": []
   },
   "outputs": [],
   "source": [
    "roi.to_csv('roi.csv')"
   ]
  },
  {
   "cell_type": "markdown",
   "id": "db05ce11",
   "metadata": {
    "papermill": {
     "duration": 0.010078,
     "end_time": "2022-10-17T20:03:34.918441",
     "exception": false,
     "start_time": "2022-10-17T20:03:34.908363",
     "status": "completed"
    },
    "tags": []
   },
   "source": [
    "writer = csv.writer(roi)"
   ]
  },
  {
   "cell_type": "markdown",
   "id": "2a67e3cd",
   "metadata": {
    "papermill": {
     "duration": 0.010173,
     "end_time": "2022-10-17T20:03:34.939077",
     "exception": false,
     "start_time": "2022-10-17T20:03:34.928904",
     "status": "completed"
    },
    "tags": []
   },
   "source": [
    "# Rolling correlation"
   ]
  },
  {
   "cell_type": "code",
   "execution_count": 25,
   "id": "04ef640d",
   "metadata": {
    "execution": {
     "iopub.execute_input": "2022-10-17T20:03:34.961639Z",
     "iopub.status.busy": "2022-10-17T20:03:34.961246Z",
     "iopub.status.idle": "2022-10-17T20:03:34.976868Z",
     "shell.execute_reply": "2022-10-17T20:03:34.975966Z"
    },
    "papermill": {
     "duration": 0.029725,
     "end_time": "2022-10-17T20:03:34.979348",
     "exception": false,
     "start_time": "2022-10-17T20:03:34.949623",
     "status": "completed"
    },
    "tags": []
   },
   "outputs": [],
   "source": [
    "df['cor_btc_gold'] = roi['btc_roi'].rolling(90).corr(roi['gold_roi'])\n",
    "df['cor_btc_dxy'] = roi['btc_roi'].rolling(90).corr(roi['dxy_roi'])\n",
    "df['cor_btc_sp500'] = roi['btc_roi'].rolling(90).corr(roi['sp500_roi'])\n",
    "df['cor_btc_vix'] = roi['btc_roi'].rolling(90).corr(roi['vix_roi'])"
   ]
  },
  {
   "cell_type": "code",
   "execution_count": 26,
   "id": "8b488769",
   "metadata": {
    "execution": {
     "iopub.execute_input": "2022-10-17T20:03:35.001822Z",
     "iopub.status.busy": "2022-10-17T20:03:35.001443Z",
     "iopub.status.idle": "2022-10-17T20:03:35.008174Z",
     "shell.execute_reply": "2022-10-17T20:03:35.007204Z"
    },
    "papermill": {
     "duration": 0.020449,
     "end_time": "2022-10-17T20:03:35.010316",
     "exception": false,
     "start_time": "2022-10-17T20:03:34.989867",
     "status": "completed"
    },
    "tags": []
   },
   "outputs": [],
   "source": [
    "cor = df[['time', 'cor_btc_gold', 'cor_btc_dxy', 'cor_btc_sp500', 'cor_btc_vix']]"
   ]
  },
  {
   "cell_type": "code",
   "execution_count": 27,
   "id": "0376497d",
   "metadata": {
    "execution": {
     "iopub.execute_input": "2022-10-17T20:03:35.033243Z",
     "iopub.status.busy": "2022-10-17T20:03:35.032697Z",
     "iopub.status.idle": "2022-10-17T20:03:35.048687Z",
     "shell.execute_reply": "2022-10-17T20:03:35.047732Z"
    },
    "papermill": {
     "duration": 0.030092,
     "end_time": "2022-10-17T20:03:35.051008",
     "exception": false,
     "start_time": "2022-10-17T20:03:35.020916",
     "status": "completed"
    },
    "tags": []
   },
   "outputs": [
    {
     "data": {
      "text/html": [
       "<div>\n",
       "<style scoped>\n",
       "    .dataframe tbody tr th:only-of-type {\n",
       "        vertical-align: middle;\n",
       "    }\n",
       "\n",
       "    .dataframe tbody tr th {\n",
       "        vertical-align: top;\n",
       "    }\n",
       "\n",
       "    .dataframe thead th {\n",
       "        text-align: right;\n",
       "    }\n",
       "</style>\n",
       "<table border=\"1\" class=\"dataframe\">\n",
       "  <thead>\n",
       "    <tr style=\"text-align: right;\">\n",
       "      <th></th>\n",
       "      <th>time</th>\n",
       "      <th>cor_btc_gold</th>\n",
       "      <th>cor_btc_dxy</th>\n",
       "      <th>cor_btc_sp500</th>\n",
       "      <th>cor_btc_vix</th>\n",
       "    </tr>\n",
       "  </thead>\n",
       "  <tbody>\n",
       "    <tr>\n",
       "      <th>0</th>\n",
       "      <td>2012-10-15</td>\n",
       "      <td>NaN</td>\n",
       "      <td>NaN</td>\n",
       "      <td>NaN</td>\n",
       "      <td>NaN</td>\n",
       "    </tr>\n",
       "    <tr>\n",
       "      <th>1</th>\n",
       "      <td>2012-10-16</td>\n",
       "      <td>NaN</td>\n",
       "      <td>NaN</td>\n",
       "      <td>NaN</td>\n",
       "      <td>NaN</td>\n",
       "    </tr>\n",
       "    <tr>\n",
       "      <th>2</th>\n",
       "      <td>2012-10-17</td>\n",
       "      <td>NaN</td>\n",
       "      <td>NaN</td>\n",
       "      <td>NaN</td>\n",
       "      <td>NaN</td>\n",
       "    </tr>\n",
       "    <tr>\n",
       "      <th>3</th>\n",
       "      <td>2012-10-18</td>\n",
       "      <td>NaN</td>\n",
       "      <td>NaN</td>\n",
       "      <td>NaN</td>\n",
       "      <td>NaN</td>\n",
       "    </tr>\n",
       "    <tr>\n",
       "      <th>4</th>\n",
       "      <td>2012-10-19</td>\n",
       "      <td>NaN</td>\n",
       "      <td>NaN</td>\n",
       "      <td>NaN</td>\n",
       "      <td>NaN</td>\n",
       "    </tr>\n",
       "    <tr>\n",
       "      <th>...</th>\n",
       "      <td>...</td>\n",
       "      <td>...</td>\n",
       "      <td>...</td>\n",
       "      <td>...</td>\n",
       "      <td>...</td>\n",
       "    </tr>\n",
       "    <tr>\n",
       "      <th>2518</th>\n",
       "      <td>2022-10-03</td>\n",
       "      <td>0.015162</td>\n",
       "      <td>-0.356369</td>\n",
       "      <td>0.610866</td>\n",
       "      <td>-0.529066</td>\n",
       "    </tr>\n",
       "    <tr>\n",
       "      <th>2519</th>\n",
       "      <td>2022-10-04</td>\n",
       "      <td>0.050874</td>\n",
       "      <td>-0.357341</td>\n",
       "      <td>0.616374</td>\n",
       "      <td>-0.533140</td>\n",
       "    </tr>\n",
       "    <tr>\n",
       "      <th>2520</th>\n",
       "      <td>2022-10-05</td>\n",
       "      <td>0.049182</td>\n",
       "      <td>-0.352029</td>\n",
       "      <td>0.625049</td>\n",
       "      <td>-0.534043</td>\n",
       "    </tr>\n",
       "    <tr>\n",
       "      <th>2521</th>\n",
       "      <td>2022-10-06</td>\n",
       "      <td>0.054831</td>\n",
       "      <td>-0.363426</td>\n",
       "      <td>0.647013</td>\n",
       "      <td>-0.545284</td>\n",
       "    </tr>\n",
       "    <tr>\n",
       "      <th>2522</th>\n",
       "      <td>2022-10-07</td>\n",
       "      <td>0.057017</td>\n",
       "      <td>-0.361307</td>\n",
       "      <td>0.659877</td>\n",
       "      <td>-0.570241</td>\n",
       "    </tr>\n",
       "  </tbody>\n",
       "</table>\n",
       "<p>2523 rows × 5 columns</p>\n",
       "</div>"
      ],
      "text/plain": [
       "            time  cor_btc_gold  cor_btc_dxy  cor_btc_sp500  cor_btc_vix\n",
       "0     2012-10-15           NaN          NaN            NaN          NaN\n",
       "1     2012-10-16           NaN          NaN            NaN          NaN\n",
       "2     2012-10-17           NaN          NaN            NaN          NaN\n",
       "3     2012-10-18           NaN          NaN            NaN          NaN\n",
       "4     2012-10-19           NaN          NaN            NaN          NaN\n",
       "...          ...           ...          ...            ...          ...\n",
       "2518  2022-10-03      0.015162    -0.356369       0.610866    -0.529066\n",
       "2519  2022-10-04      0.050874    -0.357341       0.616374    -0.533140\n",
       "2520  2022-10-05      0.049182    -0.352029       0.625049    -0.534043\n",
       "2521  2022-10-06      0.054831    -0.363426       0.647013    -0.545284\n",
       "2522  2022-10-07      0.057017    -0.361307       0.659877    -0.570241\n",
       "\n",
       "[2523 rows x 5 columns]"
      ]
     },
     "execution_count": 27,
     "metadata": {},
     "output_type": "execute_result"
    }
   ],
   "source": [
    "cor"
   ]
  },
  {
   "cell_type": "code",
   "execution_count": 28,
   "id": "65528cba",
   "metadata": {
    "execution": {
     "iopub.execute_input": "2022-10-17T20:03:35.074708Z",
     "iopub.status.busy": "2022-10-17T20:03:35.074005Z",
     "iopub.status.idle": "2022-10-17T20:03:35.437494Z",
     "shell.execute_reply": "2022-10-17T20:03:35.436511Z"
    },
    "papermill": {
     "duration": 0.378645,
     "end_time": "2022-10-17T20:03:35.440626",
     "exception": false,
     "start_time": "2022-10-17T20:03:35.061981",
     "status": "completed"
    },
    "tags": []
   },
   "outputs": [
    {
     "data": {
      "text/plain": [
       "<AxesSubplot:xlabel='time'>"
      ]
     },
     "execution_count": 28,
     "metadata": {},
     "output_type": "execute_result"
    },
    {
     "data": {
      "image/png": "[encoded data removed]",
      "text/plain": [
       "<Figure size 864x576 with 1 Axes>"
      ]
     },
     "metadata": {},
     "output_type": "display_data"
    }
   ],
   "source": [
    "from matplotlib.pyplot import plot\n",
    "cor.plot(x=\"time\", y=[\"cor_btc_sp500\", 'cor_btc_dxy'])"
   ]
  }
 ],
 "metadata": {
  "kernelspec": {
   "display_name": "Python 3",
   "language": "python",
   "name": "python3"
  },
  "language_info": {
   "codemirror_mode": {
    "name": "ipython",
    "version": 3
   },
   "file_extension": ".py",
   "mimetype": "text/x-python",
   "name": "python",
   "nbconvert_exporter": "python",
   "pygments_lexer": "ipython3",
   "version": "3.7.12"
  },
  "papermill": {
   "default_parameters": {},
   "duration": 91.207399,
   "end_time": "2022-10-17T20:03:36.174803",
   "environment_variables": {},
   "exception": null,
   "input_path": "__notebook__.ipynb",
   "output_path": "__notebook__.ipynb",
   "parameters": {},
   "start_time": "2022-10-17T20:02:04.967404",
   "version": "2.3.4"
  }
 },
 "nbformat": 4,
 "nbformat_minor": 5
}
